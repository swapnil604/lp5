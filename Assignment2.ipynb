{
 "cells": [
  {
   "cell_type": "code",
   "execution_count": 1,
   "metadata": {
    "executionInfo": {
     "elapsed": 4274,
     "status": "ok",
     "timestamp": 1713891746447,
     "user": {
      "displayName": "Aaditya Bansude",
      "userId": "05732230439820512175"
     },
     "user_tz": -330
    },
    "id": "TkVhUAgrDG53"
   },
   "outputs": [],
   "source": [
    "#import libraries\n",
    "import numpy as np\n",
    "from keras.models import Sequential\n",
    "from keras.layers import Dense"
   ]
  },
  {
   "cell_type": "code",
   "execution_count": 2,
   "metadata": {
    "colab": {
     "base_uri": "https://localhost:8080/"
    },
    "executionInfo": {
     "elapsed": 5078,
     "status": "ok",
     "timestamp": 1713891753909,
     "user": {
      "displayName": "Aaditya Bansude",
      "userId": "05732230439820512175"
     },
     "user_tz": -330
    },
    "id": "ctf7NyEe80mT",
    "outputId": "0c2f419d-3fa3-44c5-ee5b-e59f6a082775"
   },
   "outputs": [
    {
     "name": "stdout",
     "output_type": "stream",
     "text": [
      "Downloading data from https://storage.googleapis.com/tensorflow/tf-keras-datasets/imdb.npz\n",
      "17464789/17464789 [==============================] - 0s 0us/step\n"
     ]
    }
   ],
   "source": [
    "#load imdb dataset from keras\n",
    "from keras.datasets import imdb\n",
    "\n",
    "#split the dataset into train and test of reviews data and its labels\n",
    "(train_data, train_labels), (test_data, test_labels) = imdb.load_data(num_words=10000)"
   ]
  },
  {
   "cell_type": "code",
   "execution_count": 17,
   "metadata": {
    "colab": {
     "base_uri": "https://localhost:8080/"
    },
    "executionInfo": {
     "elapsed": 6,
     "status": "ok",
     "timestamp": 1713892179731,
     "user": {
      "displayName": "Aaditya Bansude",
      "userId": "05732230439820512175"
     },
     "user_tz": -330
    },
    "id": "Oc3vV6xU-aGL",
    "outputId": "9b4306c5-4a54-48a4-c477-1edda2aebb5a"
   },
   "outputs": [
    {
     "data": {
      "text/plain": [
       "array([list([1, 14, 22, 16, 43, 530, 973, 1622, 1385, 65, 458, 4468, 66, 3941, 4, 173, 36, 256, 5, 25, 100, 43, 838, 112, 50, 670, 2, 9, 35, 480, 284, 5, 150, 4, 172, 112, 167, 2, 336, 385, 39, 4, 172, 4536, 1111, 17, 546, 38, 13, 447, 4, 192, 50, 16, 6, 147, 2025, 19, 14, 22, 4, 1920, 4613, 469, 4, 22, 71, 87, 12, 16, 43, 530, 38, 76, 15, 13, 1247, 4, 22, 17, 515, 17, 12, 16, 626, 18, 2, 5, 62, 386, 12, 8, 316, 8, 106, 5, 4, 2223, 5244, 16, 480, 66, 3785, 33, 4, 130, 12, 16, 38, 619, 5, 25, 124, 51, 36, 135, 48, 25, 1415, 33, 6, 22, 12, 215, 28, 77, 52, 5, 14, 407, 16, 82, 2, 8, 4, 107, 117, 5952, 15, 256, 4, 2, 7, 3766, 5, 723, 36, 71, 43, 530, 476, 26, 400, 317, 46, 7, 4, 2, 1029, 13, 104, 88, 4, 381, 15, 297, 98, 32, 2071, 56, 26, 141, 6, 194, 7486, 18, 4, 226, 22, 21, 134, 476, 26, 480, 5, 144, 30, 5535, 18, 51, 36, 28, 224, 92, 25, 104, 4, 226, 65, 16, 38, 1334, 88, 12, 16, 283, 5, 16, 4472, 113, 103, 32, 15, 16, 5345, 19, 178, 32]),\n",
       "       list([1, 194, 1153, 194, 8255, 78, 228, 5, 6, 1463, 4369, 5012, 134, 26, 4, 715, 8, 118, 1634, 14, 394, 20, 13, 119, 954, 189, 102, 5, 207, 110, 3103, 21, 14, 69, 188, 8, 30, 23, 7, 4, 249, 126, 93, 4, 114, 9, 2300, 1523, 5, 647, 4, 116, 9, 35, 8163, 4, 229, 9, 340, 1322, 4, 118, 9, 4, 130, 4901, 19, 4, 1002, 5, 89, 29, 952, 46, 37, 4, 455, 9, 45, 43, 38, 1543, 1905, 398, 4, 1649, 26, 6853, 5, 163, 11, 3215, 2, 4, 1153, 9, 194, 775, 7, 8255, 2, 349, 2637, 148, 605, 2, 8003, 15, 123, 125, 68, 2, 6853, 15, 349, 165, 4362, 98, 5, 4, 228, 9, 43, 2, 1157, 15, 299, 120, 5, 120, 174, 11, 220, 175, 136, 50, 9, 4373, 228, 8255, 5, 2, 656, 245, 2350, 5, 4, 9837, 131, 152, 491, 18, 2, 32, 7464, 1212, 14, 9, 6, 371, 78, 22, 625, 64, 1382, 9, 8, 168, 145, 23, 4, 1690, 15, 16, 4, 1355, 5, 28, 6, 52, 154, 462, 33, 89, 78, 285, 16, 145, 95])],\n",
       "      dtype=object)"
      ]
     },
     "execution_count": 17,
     "metadata": {},
     "output_type": "execute_result"
    }
   ],
   "source": [
    "train_data[:2]"
   ]
  },
  {
   "cell_type": "code",
   "execution_count": 4,
   "metadata": {
    "colab": {
     "base_uri": "https://localhost:8080/"
    },
    "executionInfo": {
     "elapsed": 756,
     "status": "ok",
     "timestamp": 1713891761883,
     "user": {
      "displayName": "Aaditya Bansude",
      "userId": "05732230439820512175"
     },
     "user_tz": -330
    },
    "id": "flxSqSYb-fC3",
    "outputId": "c07ec2a8-2bee-4705-f095-c63979c8d585"
   },
   "outputs": [
    {
     "data": {
      "text/plain": [
       "array([1, 0, 0, 1, 0, 0, 1, 0, 1, 0, 1, 0, 0, 0, 0, 0, 1, 1, 0, 1])"
      ]
     },
     "execution_count": 4,
     "metadata": {},
     "output_type": "execute_result"
    }
   ],
   "source": [
    "train_labels[:20]"
   ]
  },
  {
   "cell_type": "code",
   "execution_count": 9,
   "metadata": {
    "colab": {
     "base_uri": "https://localhost:8080/"
    },
    "executionInfo": {
     "elapsed": 920,
     "status": "ok",
     "timestamp": 1713877174691,
     "user": {
      "displayName": "Aaditya Bansude",
      "userId": "05732230439820512175"
     },
     "user_tz": -330
    },
    "id": "s4TIngDo-trR",
    "outputId": "1617776b-4cf9-47f7-e553-87000cd7f63b"
   },
   "outputs": [
    {
     "name": "stdout",
     "output_type": "stream",
     "text": [
      "Downloading data from https://storage.googleapis.com/tensorflow/tf-keras-datasets/imdb_word_index.json\n",
      "1641221/1641221 [==============================] - 0s 0us/step\n"
     ]
    }
   ],
   "source": [
    "'''\n",
    "#get the word index\n",
    "word_index = imdb.get_word_index()\n",
    "\n",
    "#get the key, values of word index\n",
    "reviews_data_dict = dict([(value, key) for (key, value) in word_index.items()])\n",
    "\n",
    "#convert the reviews data into text form\n",
    "reviews_data = ' '.join([reviews_data_dict.get(i - 3, '?') for i in train_data[0]])\n",
    "'''"
   ]
  },
  {
   "cell_type": "code",
   "execution_count": 5,
   "metadata": {
    "executionInfo": {
     "elapsed": 5165,
     "status": "ok",
     "timestamp": 1713891771315,
     "user": {
      "displayName": "Aaditya Bansude",
      "userId": "05732230439820512175"
     },
     "user_tz": -330
    },
    "id": "_pLptaLJCmki"
   },
   "outputs": [],
   "source": [
    "#set independent data (reviews data) by vectorize into 0 and 1\n",
    "def vectorize_sequences(sequences, dimension=10000):\n",
    "    results = np.zeros((len(sequences), dimension))\n",
    "    for i, sequence in enumerate(sequences):\n",
    "        results[i, sequence] = 1.0\n",
    "    return results\n",
    "\n",
    "X_train = vectorize_sequences(train_data)\n",
    "X_test = vectorize_sequences(test_data)"
   ]
  },
  {
   "cell_type": "code",
   "execution_count": 6,
   "metadata": {
    "colab": {
     "base_uri": "https://localhost:8080/"
    },
    "executionInfo": {
     "elapsed": 10,
     "status": "ok",
     "timestamp": 1713891774326,
     "user": {
      "displayName": "Aaditya Bansude",
      "userId": "05732230439820512175"
     },
     "user_tz": -330
    },
    "id": "NJZ_LkF4Gwhj",
    "outputId": "d8c72e31-c75c-4d6f-9e47-d9daf833c358"
   },
   "outputs": [
    {
     "data": {
      "text/plain": [
       "array([[0., 1., 1., ..., 0., 0., 0.],\n",
       "       [0., 1., 1., ..., 0., 0., 0.],\n",
       "       [0., 1., 1., ..., 0., 0., 0.],\n",
       "       ...,\n",
       "       [0., 1., 1., ..., 0., 0., 0.],\n",
       "       [0., 1., 1., ..., 0., 0., 0.],\n",
       "       [0., 1., 1., ..., 0., 0., 0.]])"
      ]
     },
     "execution_count": 6,
     "metadata": {},
     "output_type": "execute_result"
    }
   ],
   "source": [
    "X_train"
   ]
  },
  {
   "cell_type": "code",
   "execution_count": 7,
   "metadata": {
    "executionInfo": {
     "elapsed": 56,
     "status": "ok",
     "timestamp": 1713891777946,
     "user": {
      "displayName": "Aaditya Bansude",
      "userId": "05732230439820512175"
     },
     "user_tz": -330
    },
    "id": "jZM9-QpOG5Hw"
   },
   "outputs": [],
   "source": [
    "#set dependent data (labels data)\n",
    "Y_train = np.asanyarray(train_labels).astype('float32')\n",
    "Y_test = np.asanyarray(test_labels).astype('float32')"
   ]
  },
  {
   "cell_type": "code",
   "execution_count": 8,
   "metadata": {
    "colab": {
     "base_uri": "https://localhost:8080/"
    },
    "executionInfo": {
     "elapsed": 761,
     "status": "ok",
     "timestamp": 1713891789364,
     "user": {
      "displayName": "Aaditya Bansude",
      "userId": "05732230439820512175"
     },
     "user_tz": -330
    },
    "id": "Yp9GnF7cHNzL",
    "outputId": "c7faba94-fccc-437e-ddbf-1cfc575a79b2"
   },
   "outputs": [
    {
     "data": {
      "text/plain": [
       "array([1., 0., 0., ..., 0., 1., 0.], dtype=float32)"
      ]
     },
     "execution_count": 8,
     "metadata": {},
     "output_type": "execute_result"
    }
   ],
   "source": [
    "Y_train"
   ]
  },
  {
   "cell_type": "code",
   "execution_count": 9,
   "metadata": {
    "colab": {
     "base_uri": "https://localhost:8080/"
    },
    "executionInfo": {
     "elapsed": 507,
     "status": "ok",
     "timestamp": 1713891796027,
     "user": {
      "displayName": "Aaditya Bansude",
      "userId": "05732230439820512175"
     },
     "user_tz": -330
    },
    "id": "LuBt5kVBHP4F",
    "outputId": "c71d52b4-1c45-4013-b41f-f65f05c8fe7f"
   },
   "outputs": [
    {
     "name": "stdout",
     "output_type": "stream",
     "text": [
      "Model: \"sequential\"\n",
      "_________________________________________________________________\n",
      " Layer (type)                Output Shape              Param #   \n",
      "=================================================================\n",
      " dense (Dense)               (None, 32)                320032    \n",
      "                                                                 \n",
      " dense_1 (Dense)             (None, 16)                528       \n",
      "                                                                 \n",
      " dense_2 (Dense)             (None, 1)                 17        \n",
      "                                                                 \n",
      "=================================================================\n",
      "Total params: 320577 (1.22 MB)\n",
      "Trainable params: 320577 (1.22 MB)\n",
      "Non-trainable params: 0 (0.00 Byte)\n",
      "_________________________________________________________________\n",
      "None\n"
     ]
    }
   ],
   "source": [
    "#define neural network model structure\n",
    "model = Sequential()\n",
    "model.add(Dense(32, activation='relu', input_shape=(10000,)))\n",
    "model.add(Dense(16, activation='relu'))\n",
    "model.add(Dense(1, activation='sigmoid'))\n",
    "\n",
    "print(model.summary())"
   ]
  },
  {
   "cell_type": "code",
   "execution_count": 10,
   "metadata": {
    "executionInfo": {
     "elapsed": 858,
     "status": "ok",
     "timestamp": 1713891801952,
     "user": {
      "displayName": "Aaditya Bansude",
      "userId": "05732230439820512175"
     },
     "user_tz": -330
    },
    "id": "lXUvkrjyH6-2"
   },
   "outputs": [],
   "source": [
    "#compile the model\n",
    "model.compile(optimizer='rmsprop', loss='binary_crossentropy', metrics=['accuracy'])\n",
    "X_val = X_train[:10000]\n",
    "Y_val = Y_train[:10000]"
   ]
  },
  {
   "cell_type": "code",
   "execution_count": 18,
   "metadata": {
    "colab": {
     "base_uri": "https://localhost:8080/"
    },
    "executionInfo": {
     "elapsed": 92105,
     "status": "ok",
     "timestamp": 1713893278590,
     "user": {
      "displayName": "Aaditya Bansude",
      "userId": "05732230439820512175"
     },
     "user_tz": -330
    },
    "id": "fweSACLwJENZ",
    "outputId": "c7124527-3b8c-4e97-af12-4cce334cd739"
   },
   "outputs": [
    {
     "name": "stdout",
     "output_type": "stream",
     "text": [
      "Epoch 1/20\n",
      "49/49 [==============================] - 5s 89ms/step - loss: 0.0136 - accuracy: 0.9966 - val_loss: 0.0054 - val_accuracy: 0.9996\n",
      "Epoch 2/20\n",
      "49/49 [==============================] - 2s 43ms/step - loss: 0.0114 - accuracy: 0.9971 - val_loss: 0.0045 - val_accuracy: 0.9998\n",
      "Epoch 3/20\n",
      "49/49 [==============================] - 2s 38ms/step - loss: 0.0136 - accuracy: 0.9963 - val_loss: 0.0035 - val_accuracy: 0.9998\n",
      "Epoch 4/20\n",
      "49/49 [==============================] - 2s 44ms/step - loss: 0.0103 - accuracy: 0.9974 - val_loss: 0.0031 - val_accuracy: 0.9999\n",
      "Epoch 5/20\n",
      "49/49 [==============================] - 2s 37ms/step - loss: 0.0059 - accuracy: 0.9984 - val_loss: 0.0753 - val_accuracy: 0.9678\n",
      "Epoch 6/20\n",
      "49/49 [==============================] - 3s 60ms/step - loss: 0.0047 - accuracy: 0.9993 - val_loss: 0.0752 - val_accuracy: 0.9664\n",
      "Epoch 7/20\n",
      "49/49 [==============================] - 3s 53ms/step - loss: 0.0055 - accuracy: 0.9986 - val_loss: 0.0016 - val_accuracy: 1.0000\n",
      "Epoch 8/20\n",
      "49/49 [==============================] - 2s 37ms/step - loss: 0.0075 - accuracy: 0.9976 - val_loss: 0.0014 - val_accuracy: 1.0000\n",
      "Epoch 9/20\n",
      "49/49 [==============================] - 2s 37ms/step - loss: 0.0093 - accuracy: 0.9977 - val_loss: 0.0013 - val_accuracy: 1.0000\n",
      "Epoch 10/20\n",
      "49/49 [==============================] - 2s 36ms/step - loss: 0.0012 - accuracy: 1.0000 - val_loss: 0.0011 - val_accuracy: 1.0000\n",
      "Epoch 11/20\n",
      "49/49 [==============================] - 2s 36ms/step - loss: 0.0081 - accuracy: 0.9971 - val_loss: 8.8885e-04 - val_accuracy: 1.0000\n",
      "Epoch 12/20\n",
      "49/49 [==============================] - 2s 37ms/step - loss: 0.0025 - accuracy: 0.9994 - val_loss: 0.1061 - val_accuracy: 0.9579\n",
      "Epoch 13/20\n",
      "49/49 [==============================] - 3s 54ms/step - loss: 0.0029 - accuracy: 0.9992 - val_loss: 6.5919e-04 - val_accuracy: 1.0000\n",
      "Epoch 14/20\n",
      "49/49 [==============================] - 3s 60ms/step - loss: 0.0100 - accuracy: 0.9972 - val_loss: 7.1489e-04 - val_accuracy: 1.0000\n",
      "Epoch 15/20\n",
      "49/49 [==============================] - 2s 39ms/step - loss: 6.4288e-04 - accuracy: 1.0000 - val_loss: 5.3833e-04 - val_accuracy: 1.0000\n",
      "Epoch 16/20\n",
      "49/49 [==============================] - 2s 38ms/step - loss: 0.0060 - accuracy: 0.9982 - val_loss: 5.7367e-04 - val_accuracy: 1.0000\n",
      "Epoch 17/20\n",
      "49/49 [==============================] - 2s 36ms/step - loss: 5.2310e-04 - accuracy: 1.0000 - val_loss: 4.4014e-04 - val_accuracy: 1.0000\n",
      "Epoch 18/20\n",
      "49/49 [==============================] - 2s 36ms/step - loss: 0.0061 - accuracy: 0.9979 - val_loss: 5.5012e-04 - val_accuracy: 1.0000\n",
      "Epoch 19/20\n",
      "49/49 [==============================] - 2s 36ms/step - loss: 4.2983e-04 - accuracy: 1.0000 - val_loss: 3.5754e-04 - val_accuracy: 1.0000\n",
      "Epoch 20/20\n",
      "49/49 [==============================] - 3s 51ms/step - loss: 0.0052 - accuracy: 0.9983 - val_loss: 4.8214e-04 - val_accuracy: 1.0000\n"
     ]
    },
    {
     "data": {
      "text/plain": [
       "<keras.src.callbacks.History at 0x79c43ed25720>"
      ]
     },
     "execution_count": 18,
     "metadata": {},
     "output_type": "execute_result"
    }
   ],
   "source": [
    "#train the model with 20 epochs\n",
    "model.fit(X_train, Y_train, epochs=20, batch_size=512, validation_data=(X_val, Y_val))"
   ]
  },
  {
   "cell_type": "code",
   "execution_count": 12,
   "metadata": {
    "colab": {
     "base_uri": "https://localhost:8080/"
    },
    "executionInfo": {
     "elapsed": 4834,
     "status": "ok",
     "timestamp": 1713891906106,
     "user": {
      "displayName": "Aaditya Bansude",
      "userId": "05732230439820512175"
     },
     "user_tz": -330
    },
    "id": "P66C-VdWJ_Jn",
    "outputId": "4dd306ae-c059-411f-ac1d-9092f38e6048"
   },
   "outputs": [
    {
     "name": "stdout",
     "output_type": "stream",
     "text": [
      "782/782 [==============================] - 2s 2ms/step - loss: 0.6587 - accuracy: 0.8583\n",
      "Evaluation results:\n",
      "Loss: 0.6586588025093079\n",
      "Accuracy: 85.82800030708313\n"
     ]
    }
   ],
   "source": [
    "#evaluate the model\n",
    "result = model.evaluate(X_test, Y_test)\n",
    "print(\"Evaluation results:\")\n",
    "print(\"Loss:\", result[0])\n",
    "print(\"Accuracy:\", result[1]*100)"
   ]
  },
  {
   "cell_type": "code",
   "execution_count": null,
   "metadata": {
    "id": "zT9SlPxlILpo"
   },
   "outputs": [],
   "source": []
  }
 ],
 "metadata": {
  "colab": {
   "authorship_tag": "ABX9TyNRU3TG4G2Jo0aQt6odXQv7",
   "mount_file_id": "1p-cnzh99EvQOIpIpgNsubzwxERB5lEBk",
   "provenance": []
  },
  "kernelspec": {
   "display_name": "Python 3 (ipykernel)",
   "language": "python",
   "name": "python3"
  },
  "language_info": {
   "codemirror_mode": {
    "name": "ipython",
    "version": 3
   },
   "file_extension": ".py",
   "mimetype": "text/x-python",
   "name": "python",
   "nbconvert_exporter": "python",
   "pygments_lexer": "ipython3",
   "version": "3.9.7"
  }
 },
 "nbformat": 4,
 "nbformat_minor": 1
}
